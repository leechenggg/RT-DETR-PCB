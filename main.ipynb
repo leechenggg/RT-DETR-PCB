{
 "cells": [
  {
   "cell_type": "markdown",
   "metadata": {},
   "source": [
    "## 一、项目背景\n",
    "\n",
    "论文链接：[DETRs Beat YOLOs on Real-time Object Detection](https://arxiv.org/abs/2304.08069)\n",
    "\n",
    "最近PaddleDetection的develop分支中新出了RT-DETR的实时端到端目标检测框架，RT-DETR是第一个实时端到端目标检测器。通过高效的混合编码器，解耦尺度内交互和跨尺度融合来高效处理多尺度特征。此外，RT-DETR支持通过使用不同的解码器层来灵活调整推理速度，而不需要重新训练，这有助于实时目标检测器的实际应用。\n",
    "\n",
    "RT-DETR-L在COCO val2017上实现了53.0%的AP，在T4 GPU上实现了114FPS，RT-DETR-X实现了54.8%的AP和74FPS，在速度和精度方面都优于相同规模的所有YOLO检测器。RT-DETR-R50实现了53.1%的AP和108FPS，RT-DETR-R101实现了54.3%的AP和74FPS，在精度上超过了全部使用相同骨干网络的DETR检测器。可以说**RT-DETR是目前目标检测领域又快又好的检测器**，并且基于Vit,有巨大发展前景。\n",
    "\n",
    "**工业缺陷检测场景对模型的快速性和准确性要求较高，基于此本文采用RT-DETR-R101在PCB数据集上进行缺陷检测。**\n",
    "\n",
    "根据PaddleDetection给出的模型性能对比，各模型结构和骨干网络的代表模型在COCO数据集上精度mAP和T4 TensorRT FP16上预测速度(FPS)对比图如下：\n",
    "\n",
    "\n",
    "![](https://ai-studio-static-online.cdn.bcebos.com/56cecd65e839414894041b54d72c7917faaf87b51eab46f2a1acffeda767f057)\n",
    "\n",
    "| Model | Epoch | backbone | input shape | $AP^{val}$ | $AP^{val}_{50}$ | Params(M) | FLOPs(G) | T4 TensorRT <br> FP16(FPS) |\n",
    "| -------- | -------- | -------- | -------- | -------- | -------- | -------- | -------- | -------- |\n",
    "| RT-DETR-R50     | 6x     | ResNet-50     | 640     | 53.1     | 71.3     | 42     | 136     | 108     |\n",
    "| RT-DETR-R101     | 6x     | ResNet-101     | 640     | 54.3     | 72.7     | 76     | 259     | 74     |\n",
    "| RT-DETR-L     | 6x     | HGNetv2     | 640     | 53.0     | 71.6     | 32     | 110     | 114     |\n",
    "| RT-DETR-X     | 6x    | HGNetv2     | 640     | 54.8     | 73.1     | 67     | 234     | 74     |\n",
    "\n"
   ]
  },
  {
   "cell_type": "markdown",
   "metadata": {},
   "source": [
    "## 二、环境准备\n",
    "### 2.1 数据准备\n",
    "本次数据集采用PKU-Market-PCB，该数据集用于印刷电路板（PCB）的瑕疵检测，提供了6种常见的PCB缺陷（漏孔、鼠咬、开路、短路、杂散、杂铜）。\n",
    "同时，该数据集提供了train_shots10，train_shots30用于小样本缺陷检测，感兴趣的可以通过更换数据集路径进行尝试。\n",
    "\n",
    "数据集来源：https://robotics.pkusz.edu.cn/resources/dataset/"
   ]
  },
  {
   "cell_type": "code",
   "execution_count": null,
   "metadata": {
    "scrolled": true
   },
   "outputs": [],
   "source": [
    "# 解压数据集（仅运行一次）\n",
    "!tar -xvf data/data185667/pcb.tar -C ./data/"
   ]
  },
  {
   "cell_type": "code",
   "execution_count": 2,
   "metadata": {
    "collapsed": false,
    "execution": {
     "iopub.execute_input": "2023-04-21T04:53:34.192628Z",
     "iopub.status.busy": "2023-04-21T04:53:34.191744Z",
     "iopub.status.idle": "2023-04-21T04:53:34.659146Z",
     "shell.execute_reply": "2023-04-21T04:53:34.657775Z",
     "shell.execute_reply.started": "2023-04-21T04:53:34.192583Z"
    },
    "jupyter": {
     "outputs_hidden": false
    },
    "scrolled": true
   },
   "outputs": [],
   "source": [
    "# 组织数据目录\n",
    "!mkdir MyDataset\n",
    "!mkdir MyDataset/JPEGImages"
   ]
  },
  {
   "cell_type": "code",
   "execution_count": 3,
   "metadata": {
    "collapsed": false,
    "execution": {
     "iopub.execute_input": "2023-04-21T04:53:46.186472Z",
     "iopub.status.busy": "2023-04-21T04:53:46.185886Z",
     "iopub.status.idle": "2023-04-21T04:53:46.672870Z",
     "shell.execute_reply": "2023-04-21T04:53:46.671513Z",
     "shell.execute_reply.started": "2023-04-21T04:53:46.186431Z"
    },
    "jupyter": {
     "outputs_hidden": false
    },
    "scrolled": true
   },
   "outputs": [],
   "source": [
    "!mv data/pcb/images/* MyDataset/JPEGImages/\n",
    "!mv data/pcb/pcb_cocoanno/* MyDataset/"
   ]
  },
  {
   "cell_type": "markdown",
   "metadata": {},
   "source": [
    "### 2.2 安装PaddleDetection以及依赖"
   ]
  },
  {
   "cell_type": "code",
   "execution_count": 4,
   "metadata": {
    "collapsed": false,
    "execution": {
     "iopub.execute_input": "2023-04-21T04:54:39.200744Z",
     "iopub.status.busy": "2023-04-21T04:54:39.199877Z",
     "iopub.status.idle": "2023-04-21T04:59:02.168700Z",
     "shell.execute_reply": "2023-04-21T04:59:02.167440Z",
     "shell.execute_reply.started": "2023-04-21T04:54:39.200704Z"
    },
    "jupyter": {
     "outputs_hidden": false
    },
    "scrolled": true
   },
   "outputs": [
    {
     "name": "stdout",
     "output_type": "stream",
     "text": [
      "正克隆到 'PaddleDetection'...\r\n",
      "remote: Enumerating objects: 257323, done.\u001b[K\r\n",
      "remote: Counting objects: 100% (2320/2320), done.\u001b[K\r\n",
      "remote: Compressing objects: 100% (1349/1349), done.\u001b[K\r\n",
      "remote: Total 257323 (delta 1420), reused 1762 (delta 952), pack-reused 255003\u001b[K\r\n",
      "接收对象中: 100% (257323/257323), 413.67 MiB | 5.12 MiB/s, 完成.\r\n",
      "处理 delta 中: 100% (210448/210448), 完成.\r\n",
      "检查连接... 完成。\r\n"
     ]
    }
   ],
   "source": [
    "!git clone https://gitee.com/paddlepaddle/PaddleDetection.git"
   ]
  },
  {
   "cell_type": "code",
   "execution_count": 1,
   "metadata": {
    "execution": {
     "iopub.execute_input": "2023-04-22T06:02:03.396489Z",
     "iopub.status.busy": "2023-04-22T06:02:03.395549Z",
     "iopub.status.idle": "2023-04-22T06:02:03.401915Z",
     "shell.execute_reply": "2023-04-22T06:02:03.401031Z",
     "shell.execute_reply.started": "2023-04-22T06:02:03.396453Z"
    },
    "scrolled": true
   },
   "outputs": [
    {
     "name": "stdout",
     "output_type": "stream",
     "text": [
      "/home/aistudio/PaddleDetection\r\n"
     ]
    }
   ],
   "source": [
    "%cd PaddleDetection"
   ]
  },
  {
   "cell_type": "code",
   "execution_count": null,
   "metadata": {
    "scrolled": true,
    "tags": []
   },
   "outputs": [],
   "source": [
    "# 安装依赖\n",
    "!pip install -r requirements.txt --user\n",
    "!python setup.py install --user"
   ]
  },
  {
   "cell_type": "code",
   "execution_count": 3,
   "metadata": {
    "execution": {
     "iopub.execute_input": "2023-04-22T06:02:13.564708Z",
     "iopub.status.busy": "2023-04-22T06:02:13.563864Z",
     "iopub.status.idle": "2023-04-22T06:02:14.600841Z",
     "shell.execute_reply": "2023-04-22T06:02:14.599807Z",
     "shell.execute_reply.started": "2023-04-22T06:02:13.564676Z"
    },
    "scrolled": true
   },
   "outputs": [
    {
     "name": "stdout",
     "output_type": "stream",
     "text": [
      "M\tconfigs/datasets/coco_detection.yml\r\n",
      "M\tconfigs/rtdetr/_base_/optimizer_6x.yml\r\n",
      "M\tconfigs/rtdetr/rtdetr_r101vd_6x_coco.yml\r\n",
      "M\tconfigs/runtime.yml\r\n",
      "已经位于 'develop'\r\n",
      "您的分支与上游分支 'origin/develop' 一致。\r\n"
     ]
    }
   ],
   "source": [
    "# 切换到develop分支\n",
    "!git checkout develop"
   ]
  },
  {
   "cell_type": "markdown",
   "metadata": {},
   "source": [
    "## 三、模型选型\n",
    "RT-DETR提供了四种模型进行选择，具体的模型选型可以根据自己数据集的情况选取精度与速度相适应的模型，本次采用**RT-DETR-R101**\n",
    "\n",
    "\n",
    "### 3.1 找到配置文件\n",
    "配置文件在PaddleDetection/configs/rtdetr/rtdetr_r101vd_6x_coco.yml，主要包含五个部分，为了方便更改，将其copy到根目录下\n",
    "![](https://ai-studio-static-online.cdn.bcebos.com/4ec87156c7b94a33ac9937ee212c2bcec1f06298468647f49181fc95d7529361)\n",
    "\n",
    "\n",
    "\n",
    "### 3.2 修改配置文件\n",
    "> 找到配置文件后，需要对其进行修改，参考链接https://github.com/PaddlePaddle/PaddleDetection/blob/release/2.6/docs/advanced_tutorials/customization/detection.md\n",
    "\n",
    "在这里主要修改：\n",
    "*  coco_detection 文件修改数据集路径，将num_classes=6，因为有6类缺陷，将训练和验证集路径修改到解压好的个人数据集路径。\n",
    "\n",
    "![](https://ai-studio-static-online.cdn.bcebos.com/6ae953900cca4a6a974acb3e23200db09d3b09e4474a446bb11c497c1a7c08f7)\n",
    "\n",
    "* 学习率训练轮数等超参数，**因为官方是在4卡进行训练，因此在单卡情况下修改base_lr=0.0001/4 = 0.000025**\n",
    "\n",
    "![](https://ai-studio-static-online.cdn.bcebos.com/b1636325b55247d080407aaa9fa423ec9ac16490fc174811a0c903bc83a6b61a)\n"
   ]
  },
  {
   "cell_type": "code",
   "execution_count": 4,
   "metadata": {
    "execution": {
     "iopub.execute_input": "2023-04-22T04:28:33.960904Z",
     "iopub.status.busy": "2023-04-22T04:28:33.960250Z",
     "iopub.status.idle": "2023-04-22T04:28:35.352075Z",
     "shell.execute_reply": "2023-04-22T04:28:35.350862Z",
     "shell.execute_reply.started": "2023-04-22T04:28:33.960866Z"
    },
    "scrolled": true
   },
   "outputs": [],
   "source": [
    "# 训练配置文件覆盖\n",
    "!cp ../rtdetr_r101vd_6x_coco.yml configs/rtdetr/rtdetr_r101vd_6x_coco.yml\n",
    "!cp ../coco_detection.yml configs/datasets/coco_detection.yml\n",
    "!cp ../runtime.yml configs/runtime.yml\n",
    "!cp ../optimizer_6x.yml configs/rtdetr/_base_/optimizer_6x.yml\n",
    "!cp ../rtdetr_r50vd.yml configs/rtdetr/_base_/rtdetr_r50vd.yml\n",
    "!cp ../rtdetr_reader.yml configs/rtdetr/_base_/rtdetr_reader.yml"
   ]
  },
  {
   "cell_type": "markdown",
   "metadata": {},
   "source": [
    "## 四、模型训练\n",
    "训练100轮map为0.46，average FPS: 18.4"
   ]
  },
  {
   "cell_type": "code",
   "execution_count": null,
   "metadata": {
    "scrolled": true,
    "tags": []
   },
   "outputs": [],
   "source": [
    "# 开始训练\n",
    "# 恢复训练 -r output/rtdetr_r101vd_6x_coco/best_model\n",
    "!python tools/train.py \\\n",
    "-c configs/rtdetr/rtdetr_r101vd_6x_coco.yml \\\n",
    "--use_vdl=True \\\n",
    "--vdl_log_dir=../work/ \\\n",
    "--eval "
   ]
  },
  {
   "cell_type": "markdown",
   "metadata": {},
   "source": [
    "### 训练100轮模型评估\n",
    "![](https://ai-studio-static-online.cdn.bcebos.com/f6417c33869441c788dedc5290b86026992fe65f19364d448e05077fae0a74e7)\n"
   ]
  },
  {
   "cell_type": "markdown",
   "metadata": {},
   "source": [
    "### 训练过程可视化\n",
    "![](https://ai-studio-static-online.cdn.bcebos.com/e4521a0a74e44dbaa705e86538afe82114817a8239994767a30030d4b1e55d44)\n",
    "\n",
    "![](https://ai-studio-static-online.cdn.bcebos.com/fdcca6f2184c4105be0667d133232fdcb808b2cec7d84c749012cf6838ab8675)\n",
    "![](https://ai-studio-static-online.cdn.bcebos.com/fedbd95032474455a82ad31193adc38d2d0bb5428d5545b1b770edd9dc2fff7b)\n",
    "\n"
   ]
  },
  {
   "cell_type": "code",
   "execution_count": 7,
   "metadata": {
    "execution": {
     "iopub.execute_input": "2023-04-21T10:43:54.848247Z",
     "iopub.status.busy": "2023-04-21T10:43:54.847566Z",
     "iopub.status.idle": "2023-04-21T10:44:19.033543Z",
     "shell.execute_reply": "2023-04-21T10:44:19.032388Z",
     "shell.execute_reply.started": "2023-04-21T10:43:54.848204Z"
    },
    "scrolled": true
   },
   "outputs": [
    {
     "name": "stdout",
     "output_type": "stream",
     "text": [
      "/opt/conda/envs/python35-paddle120-env/lib/python3.7/site-packages/matplotlib/__init__.py:107: DeprecationWarning: Using or importing the ABCs from 'collections' instead of from 'collections.abc' is deprecated, and in 3.8 it will stop working\r\n",
      "  from collections import MutableMapping\r\n",
      "/opt/conda/envs/python35-paddle120-env/lib/python3.7/site-packages/matplotlib/rcsetup.py:20: DeprecationWarning: Using or importing the ABCs from 'collections' instead of from 'collections.abc' is deprecated, and in 3.8 it will stop working\r\n",
      "  from collections import Iterable, Mapping\r\n",
      "/opt/conda/envs/python35-paddle120-env/lib/python3.7/site-packages/matplotlib/colors.py:53: DeprecationWarning: Using or importing the ABCs from 'collections' instead of from 'collections.abc' is deprecated, and in 3.8 it will stop working\r\n",
      "  from collections import Sized\r\n",
      "W0421 18:43:59.137140 12824 gpu_resources.cc:61] Please NOTE: device: 0, GPU Compute Capability: 7.0, Driver API Version: 11.2, Runtime API Version: 11.2\r\n",
      "W0421 18:43:59.142907 12824 gpu_resources.cc:91] device: 0, cuDNN Version: 8.2.\r\n",
      "loading annotations into memory...\r\n",
      "Done (t=0.00s)\r\n",
      "creating index...\r\n",
      "index created!\r\n",
      "[04/21 18:44:01] ppdet.data.source.coco INFO: Load [138 samples valid, 0 samples invalid] in file /home/aistudio/MyDataset/val.json.\r\n",
      "[04/21 18:44:04] ppdet.utils.checkpoint INFO: Finish loading model weights: output/rtdetr_r101vd_6x_coco/best_model.pdparams\r\n",
      "[04/21 18:44:06] ppdet.engine INFO: Eval iter: 0\r\n",
      "[04/21 18:44:13] ppdet.metrics.metrics INFO: The bbox result is saved to bbox.json.\r\n",
      "loading annotations into memory...\r\n",
      "Done (t=0.11s)\r\n",
      "creating index...\r\n",
      "index created!\r\n",
      "[04/21 18:44:13] ppdet.metrics.coco_utils INFO: Start evaluate...\r\n",
      "Loading and preparing results...\r\n",
      "DONE (t=0.56s)\r\n",
      "creating index...\r\n",
      "index created!\r\n",
      "Running per image evaluation...\r\n",
      "Evaluate annotation type *bbox*\r\n",
      "DONE (t=2.29s).\r\n",
      "Accumulating evaluation results...\r\n",
      "DONE (t=0.28s).\r\n",
      " Average Precision  (AP) @[ IoU=0.50:0.95 | area=   all | maxDets=100 ] = 0.464\r\n",
      " Average Precision  (AP) @[ IoU=0.50      | area=   all | maxDets=100 ] = 0.921\r\n",
      " Average Precision  (AP) @[ IoU=0.75      | area=   all | maxDets=100 ] = 0.400\r\n",
      " Average Precision  (AP) @[ IoU=0.50:0.95 | area= small | maxDets=100 ] = 0.233\r\n",
      " Average Precision  (AP) @[ IoU=0.50:0.95 | area=medium | maxDets=100 ] = 0.467\r\n",
      " Average Precision  (AP) @[ IoU=0.50:0.95 | area= large | maxDets=100 ] = 0.465\r\n",
      " Average Recall     (AR) @[ IoU=0.50:0.95 | area=   all | maxDets=  1 ] = 0.134\r\n",
      " Average Recall     (AR) @[ IoU=0.50:0.95 | area=   all | maxDets= 10 ] = 0.550\r\n",
      " Average Recall     (AR) @[ IoU=0.50:0.95 | area=   all | maxDets=100 ] = 0.596\r\n",
      " Average Recall     (AR) @[ IoU=0.50:0.95 | area= small | maxDets=100 ] = 0.233\r\n",
      " Average Recall     (AR) @[ IoU=0.50:0.95 | area=medium | maxDets=100 ] = 0.600\r\n",
      " Average Recall     (AR) @[ IoU=0.50:0.95 | area= large | maxDets=100 ] = 0.580\r\n",
      "[04/21 18:44:16] ppdet.engine INFO: Total sample number: 138, average FPS: 18.449997011669787\r\n"
     ]
    }
   ],
   "source": [
    "# 模型评估\n",
    "!python -u tools/eval.py \\\n",
    "-c configs/rtdetr/rtdetr_r101vd_6x_coco.yml \\\n",
    "-o weights=output/rtdetr_r101vd_6x_coco/best_model"
   ]
  },
  {
   "cell_type": "markdown",
   "metadata": {},
   "source": [
    "## 五、预测推理\n",
    "在paddledetection套件中可以预测单张图片也可以批量预测，只需修改一些参数，十分方便\n",
    "![](https://ai-studio-static-online.cdn.bcebos.com/694ccc213e86486c85781dfd00aa5a5dcb2817552c644187b623e29b74d0dbf6)\n",
    "\n"
   ]
  },
  {
   "cell_type": "code",
   "execution_count": null,
   "metadata": {
    "scrolled": true,
    "tags": []
   },
   "outputs": [],
   "source": [
    "# 挑一张验证集的图片展示预测效果\n",
    "!python tools/infer.py \\\n",
    "-c configs/rtdetr/rtdetr_r101vd_6x_coco.yml \\\n",
    "-o weights=output/rtdetr_r101vd_6x_coco/best_model \\\n",
    "--infer_img=../MyDataset/JPEGImages/01_missing_hole_15.jpg \\\n",
    "--save_results=True"
   ]
  },
  {
   "cell_type": "code",
   "execution_count": null,
   "metadata": {
    "scrolled": true,
    "tags": []
   },
   "outputs": [],
   "source": [
    "# 批量预测\n",
    "!python tools/infer.py \\\n",
    "-c configs/rtdetr/rtdetr_r101vd_6x_coco.yml \\\n",
    "-o weights=output/rtdetr_r101vd_6x_coco/best_model \\\n",
    "--infer_dir=../MyDataset/JPEGImages/ \\\n",
    "--output_dir=../output/infer_images/ \\\n",
    "--draw_threshold=0.5 \\\n",
    "--save_results=True"
   ]
  },
  {
   "cell_type": "markdown",
   "metadata": {},
   "source": [
    "## 六、部署模型"
   ]
  },
  {
   "cell_type": "markdown",
   "metadata": {},
   "source": [
    "### 6.1导出部署模型"
   ]
  },
  {
   "cell_type": "code",
   "execution_count": null,
   "metadata": {
    "scrolled": true,
    "tags": []
   },
   "outputs": [],
   "source": [
    "#导出部署模型\n",
    "!python tools/export_model.py \\\n",
    "-c configs/rtdetr/rtdetr_r101vd_6x_coco.yml \\\n",
    "-o weights=output/rtdetr_r101vd_6x_coco/best_model"
   ]
  },
  {
   "cell_type": "markdown",
   "metadata": {},
   "source": [
    "### 6.2转换模型至ONNX"
   ]
  },
  {
   "cell_type": "code",
   "execution_count": null,
   "metadata": {
    "scrolled": true
   },
   "outputs": [],
   "source": [
    "#安装Paddle2ONNX 和 ONNX\n",
    "!pip install onnx==1.13.0\n",
    "!pip install paddle2onnx==1.0.5"
   ]
  },
  {
   "cell_type": "code",
   "execution_count": null,
   "metadata": {
    "scrolled": true
   },
   "outputs": [],
   "source": [
    "!paddle2onnx --model_dir=./output_inference/rtdetr_r101vd_6x_coco/ \\\n",
    "            --model_filename model.pdmodel  \\\n",
    "            --params_filename model.pdiparams \\\n",
    "            --opset_version 16 \\\n",
    "            --save_file rtdetr_r101vd_6x_coco.onnx"
   ]
  },
  {
   "cell_type": "markdown",
   "metadata": {},
   "source": [
    "## 七、总结\n",
    "\n",
    "* 本文利用RT-DETR-R101在工业缺陷检测数据集上进行模型的训练验证与推理部署，通过100轮的训练模型的map为0.46，V100环境下average FPS: 18.4，实现了又快又好的效果。\n",
    "\n",
    "* 由于是PCB缺陷检测，属于小目标，可以尝试通过SIHI切图方式进行进一步的AP提升\n",
    "\n",
    "* DETR实现了真正端到端的目标检测，真正的难题在于推理速度慢，RT-DETR较好的解决这一问题，希望FastDeploy可以尽快支持RT-DETR进行模型部署。\n"
   ]
  }
 ],
 "metadata": {
  "kernelspec": {
   "display_name": "Python 3",
   "language": "python",
   "name": "py35-paddle1.2.0"
  },
  "language_info": {
   "codemirror_mode": {
    "name": "ipython",
    "version": 3
   },
   "file_extension": ".py",
   "mimetype": "text/x-python",
   "name": "python",
   "nbconvert_exporter": "python",
   "pygments_lexer": "ipython3",
   "version": "3.7.4"
  }
 },
 "nbformat": 4,
 "nbformat_minor": 4
}
